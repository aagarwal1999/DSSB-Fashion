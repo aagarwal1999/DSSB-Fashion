{
 "cells": [
  {
   "cell_type": "code",
   "execution_count": 1,
   "metadata": {},
   "outputs": [
    {
     "name": "stderr",
     "output_type": "stream",
     "text": [
      "/Users/ianlee/anaconda3/lib/python3.6/site-packages/h5py/__init__.py:36: FutureWarning: Conversion of the second argument of issubdtype from `float` to `np.floating` is deprecated. In future, it will be treated as `np.float64 == np.dtype(float).type`.\n",
      "  from ._conv import register_converters as _register_converters\n",
      "Using TensorFlow backend.\n"
     ]
    }
   ],
   "source": [
    "import keras\n",
    "from keras.datasets import cifar10\n",
    "import numpy as np\n",
    "from keras.applications.inception_v3 import InceptionV3, preprocess_input\n",
    "import scipy\n",
    "from scipy import misc\n",
    "import os\n",
    "import tensorflow as tf\n",
    "import math\n",
    "import timeit\n",
    "import matplotlib.pyplot as plt\n",
    "%matplotlib inline"
   ]
  },
  {
   "cell_type": "code",
   "execution_count": 2,
   "metadata": {},
   "outputs": [
    {
     "name": "stdout",
     "output_type": "stream",
     "text": [
      "model loaded\n",
      "bottleneck features file not detected (train)\n",
      "calculating now ...\n"
     ]
    },
    {
     "ename": "NameError",
     "evalue": "name 'X_train' is not defined",
     "output_type": "error",
     "traceback": [
      "\u001b[0;31m---------------------------------------------------------------------------\u001b[0m",
      "\u001b[0;31mNameError\u001b[0m                                 Traceback (most recent call last)",
      "\u001b[0;32m<ipython-input-2-f51ceb7c8065>\u001b[0m in \u001b[0;36m<module>\u001b[0;34m()\u001b[0m\n\u001b[1;32m     12\u001b[0m     \u001b[0;31m# pre-process the train data\u001b[0m\u001b[0;34m\u001b[0m\u001b[0;34m\u001b[0m\u001b[0m\n\u001b[1;32m     13\u001b[0m     big_X_train = np.array([scipy.misc.imresize(X_train[i], (139, 139, 3)) \n\u001b[0;32m---> 14\u001b[0;31m                             for i in range(0, len(X_train))]).astype('float32')\n\u001b[0m\u001b[1;32m     15\u001b[0m     \u001b[0minception_input_train\u001b[0m \u001b[0;34m=\u001b[0m \u001b[0mpreprocess_input\u001b[0m\u001b[0;34m(\u001b[0m\u001b[0mbig_X_train\u001b[0m\u001b[0;34m)\u001b[0m\u001b[0;34m\u001b[0m\u001b[0m\n\u001b[1;32m     16\u001b[0m     \u001b[0mprint\u001b[0m\u001b[0;34m(\u001b[0m\u001b[0;34m'train data preprocessed'\u001b[0m\u001b[0;34m)\u001b[0m\u001b[0;34m\u001b[0m\u001b[0m\n",
      "\u001b[0;31mNameError\u001b[0m: name 'X_train' is not defined"
     ]
    }
   ],
   "source": [
    "# load inceptionV3 model + remove final classification layers\n",
    "model = InceptionV3(weights='imagenet', include_top=False, input_shape=(139, 139, 3))\n",
    "print('model loaded')\n",
    "\n",
    "# obtain bottleneck features (train)\n",
    "if os.path.exists('inception_features_train.npz'):\n",
    "    print('bottleneck features detected (train)')\n",
    "    features = np.load('inception_features_train.npz')['features']\n",
    "else:\n",
    "    print('bottleneck features file not detected (train)')\n",
    "    print('calculating now ...')\n",
    "    # pre-process the train data\n",
    "    big_X_train = np.array([scipy.misc.imresize(X_train[i], (139, 139, 3)) \n",
    "                            for i in range(0, len(X_train))]).astype('float32')\n",
    "    inception_input_train = preprocess_input(big_X_train)\n",
    "    print('train data preprocessed')\n",
    "    # extract, process, and save bottleneck features\n",
    "    features = model.predict(inception_input_train)\n",
    "    features = np.squeeze(features)\n",
    "    np.savez('inception_features_train', features=features)\n",
    "    \n",
    "print('bottleneck features saved (train)')"
   ]
  },
  {
   "cell_type": "code",
   "execution_count": 23,
   "metadata": {},
   "outputs": [
    {
     "name": "stdout",
     "output_type": "stream",
     "text": [
      "bottleneck features file not detected (test)\n",
      "calculating now ...\n",
      "bottleneck features saved (test)\n"
     ]
    }
   ],
   "source": [
    "# obtain bottleneck features (test)\n",
    "if os.path.exists('inception_features_test.npz'):\n",
    "    print('bottleneck features detected (test)')\n",
    "    features_test = np.load('inception_features_test.npz')['features_test']\n",
    "else:\n",
    "    print('bottleneck features file not detected (test)')\n",
    "    print('calculating now ...')\n",
    "    # pre-process the test data\n",
    "    big_X_test = np.array([scipy.misc.imresize(X_test[i], (139, 139, 3)) \n",
    "                       for i in range(0, len(X_test))]).astype('float32')\n",
    "    inception_input_test = preprocess_input(big_X_test)\n",
    "    # extract, process, and save bottleneck features (test)\n",
    "    features_test = model.predict(inception_input_test)\n",
    "    features_test = np.squeeze(features_test)\n",
    "    np.savez('inception_features_test', features_test=features_test)\n",
    "print('bottleneck features saved (test)')"
   ]
  },
  {
   "cell_type": "code",
   "execution_count": 41,
   "metadata": {},
   "outputs": [
    {
     "name": "stdout",
     "output_type": "stream",
     "text": [
      "_________________________________________________________________\n",
      "Layer (type)                 Output Shape              Param #   \n",
      "=================================================================\n",
      "conv2d_193 (Conv2D)          (None, 1, 1, 32)          589856    \n",
      "_________________________________________________________________\n",
      "dropout_9 (Dropout)          (None, 1, 1, 32)          0         \n",
      "_________________________________________________________________\n",
      "global_average_pooling2d_5 ( (None, 32)                0         \n",
      "_________________________________________________________________\n",
      "dropout_10 (Dropout)         (None, 32)                0         \n",
      "_________________________________________________________________\n",
      "dense_5 (Dense)              (None, 3)                 99        \n",
      "=================================================================\n",
      "Total params: 589,955\n",
      "Trainable params: 589,955\n",
      "Non-trainable params: 0\n",
      "_________________________________________________________________\n",
      "Train on 15425 samples, validate on 3857 samples\n",
      "Epoch 1/50\n",
      "Epoch 00001: val_loss improved from inf to 5.85130, saving model to model.best.hdf5\n",
      " - 6s - loss: 7.0378 - acc: 0.5414 - val_loss: 5.8513 - val_acc: 0.6225\n",
      "Epoch 2/50\n",
      "Epoch 00002: val_loss improved from 5.85130 to 5.60879, saving model to model.best.hdf5\n",
      " - 4s - loss: 6.1946 - acc: 0.5991 - val_loss: 5.6088 - val_acc: 0.6344\n",
      "Epoch 3/50\n",
      "Epoch 00003: val_loss improved from 5.60879 to 4.66336, saving model to model.best.hdf5\n",
      " - 4s - loss: 5.2825 - acc: 0.6522 - val_loss: 4.6634 - val_acc: 0.6928\n",
      "Epoch 4/50\n",
      "Epoch 00004: val_loss improved from 4.66336 to 4.37501, saving model to model.best.hdf5\n",
      " - 4s - loss: 4.9058 - acc: 0.6793 - val_loss: 4.3750 - val_acc: 0.7140\n",
      "Epoch 5/50\n",
      "Epoch 00005: val_loss did not improve\n",
      " - 4s - loss: 4.7240 - acc: 0.6921 - val_loss: 4.7892 - val_acc: 0.6897\n",
      "Epoch 6/50\n",
      "Epoch 00006: val_loss did not improve\n",
      " - 4s - loss: 4.6451 - acc: 0.6987 - val_loss: 5.0534 - val_acc: 0.6767\n",
      "Epoch 7/50\n",
      "Epoch 00007: val_loss did not improve\n",
      " - 4s - loss: 4.5390 - acc: 0.7060 - val_loss: 4.6120 - val_acc: 0.7042\n",
      "Epoch 8/50\n",
      "Epoch 00008: val_loss improved from 4.37501 to 4.25058, saving model to model.best.hdf5\n",
      " - 4s - loss: 4.5344 - acc: 0.7059 - val_loss: 4.2506 - val_acc: 0.7262\n",
      "Epoch 9/50\n",
      "Epoch 00009: val_loss did not improve\n",
      " - 4s - loss: 4.4081 - acc: 0.7150 - val_loss: 4.3444 - val_acc: 0.7169\n",
      "Epoch 10/50\n",
      "Epoch 00010: val_loss did not improve\n",
      " - 4s - loss: 4.5706 - acc: 0.7062 - val_loss: 4.3916 - val_acc: 0.7195\n",
      "Epoch 11/50\n",
      "Epoch 00011: val_loss improved from 4.25058 to 4.24688, saving model to model.best.hdf5\n",
      " - 4s - loss: 4.4421 - acc: 0.7133 - val_loss: 4.2469 - val_acc: 0.7270\n",
      "Epoch 12/50\n",
      "Epoch 00012: val_loss did not improve\n",
      " - 4s - loss: 4.3839 - acc: 0.7179 - val_loss: 4.2849 - val_acc: 0.7247\n",
      "Epoch 13/50\n",
      "Epoch 00013: val_loss did not improve\n",
      " - 4s - loss: 4.4913 - acc: 0.7114 - val_loss: 4.2603 - val_acc: 0.7270\n",
      "Epoch 14/50\n",
      "Epoch 00014: val_loss improved from 4.24688 to 4.16357, saving model to model.best.hdf5\n",
      " - 4s - loss: 4.2731 - acc: 0.7243 - val_loss: 4.1636 - val_acc: 0.7327\n",
      "Epoch 15/50\n",
      "Epoch 00015: val_loss improved from 4.16357 to 4.13405, saving model to model.best.hdf5\n",
      " - 4s - loss: 4.1993 - acc: 0.7295 - val_loss: 4.1340 - val_acc: 0.7363\n",
      "Epoch 16/50\n",
      "Epoch 00016: val_loss did not improve\n",
      " - 4s - loss: 4.2250 - acc: 0.7293 - val_loss: 4.1373 - val_acc: 0.7340\n",
      "Epoch 17/50\n",
      "Epoch 00017: val_loss improved from 4.13405 to 4.13128, saving model to model.best.hdf5\n",
      " - 4s - loss: 4.3029 - acc: 0.7236 - val_loss: 4.1313 - val_acc: 0.7358\n",
      "Epoch 18/50\n",
      "Epoch 00018: val_loss did not improve\n",
      " - 4s - loss: 4.2009 - acc: 0.7302 - val_loss: 4.1579 - val_acc: 0.7345\n",
      "Epoch 19/50\n",
      "Epoch 00019: val_loss improved from 4.13128 to 4.09243, saving model to model.best.hdf5\n",
      " - 4s - loss: 4.2828 - acc: 0.7256 - val_loss: 4.0924 - val_acc: 0.7374\n",
      "Epoch 20/50\n",
      "Epoch 00020: val_loss did not improve\n",
      " - 4s - loss: 4.1693 - acc: 0.7326 - val_loss: 4.1700 - val_acc: 0.7309\n",
      "Epoch 21/50\n",
      "Epoch 00021: val_loss did not improve\n",
      " - 4s - loss: 4.1024 - acc: 0.7360 - val_loss: 4.6481 - val_acc: 0.7044\n",
      "Epoch 22/50\n",
      "Epoch 00022: val_loss did not improve\n",
      " - 4s - loss: 4.0875 - acc: 0.7391 - val_loss: 4.1857 - val_acc: 0.7337\n",
      "Epoch 23/50\n",
      "Epoch 00023: val_loss did not improve\n",
      " - 4s - loss: 4.0874 - acc: 0.7383 - val_loss: 4.4445 - val_acc: 0.7171\n",
      "Epoch 24/50\n",
      "Epoch 00024: val_loss did not improve\n",
      " - 4s - loss: 4.1435 - acc: 0.7348 - val_loss: 4.2985 - val_acc: 0.7252\n",
      "Epoch 25/50\n",
      "Epoch 00025: val_loss did not improve\n",
      " - 4s - loss: 4.1527 - acc: 0.7341 - val_loss: 4.1354 - val_acc: 0.7358\n",
      "Epoch 26/50\n",
      "Epoch 00026: val_loss did not improve\n",
      " - 4s - loss: 4.0352 - acc: 0.7416 - val_loss: 4.7646 - val_acc: 0.6972\n",
      "Epoch 27/50\n",
      "Epoch 00027: val_loss did not improve\n",
      " - 4s - loss: 4.0733 - acc: 0.7396 - val_loss: 4.1053 - val_acc: 0.7379\n",
      "Epoch 28/50\n",
      "Epoch 00028: val_loss did not improve\n",
      " - 4s - loss: 4.2037 - acc: 0.7324 - val_loss: 4.1672 - val_acc: 0.7335\n",
      "Epoch 29/50\n",
      "Epoch 00029: val_loss did not improve\n",
      " - 4s - loss: 4.1814 - acc: 0.7317 - val_loss: 4.1108 - val_acc: 0.7366\n",
      "Epoch 30/50\n",
      "Epoch 00030: val_loss improved from 4.09243 to 4.04565, saving model to model.best.hdf5\n",
      " - 4s - loss: 4.0718 - acc: 0.7388 - val_loss: 4.0456 - val_acc: 0.7415\n",
      "Epoch 31/50\n",
      "Epoch 00031: val_loss did not improve\n",
      " - 4s - loss: 3.9995 - acc: 0.7438 - val_loss: 4.1783 - val_acc: 0.7342\n",
      "Epoch 32/50\n",
      "Epoch 00032: val_loss did not improve\n",
      " - 4s - loss: 3.9207 - acc: 0.7487 - val_loss: 4.1066 - val_acc: 0.7389\n",
      "Epoch 33/50\n",
      "Epoch 00033: val_loss improved from 4.04565 to 4.04177, saving model to model.best.hdf5\n",
      " - 4s - loss: 3.9381 - acc: 0.7466 - val_loss: 4.0418 - val_acc: 0.7415\n",
      "Epoch 34/50\n",
      "Epoch 00034: val_loss improved from 4.04177 to 3.94295, saving model to model.best.hdf5\n",
      " - 4s - loss: 3.9220 - acc: 0.7492 - val_loss: 3.9429 - val_acc: 0.7480\n",
      "Epoch 35/50\n",
      "Epoch 00035: val_loss did not improve\n",
      " - 4s - loss: 3.9284 - acc: 0.7489 - val_loss: 3.9626 - val_acc: 0.7459\n",
      "Epoch 36/50\n",
      "Epoch 00036: val_loss did not improve\n",
      " - 4s - loss: 3.9383 - acc: 0.7492 - val_loss: 3.9909 - val_acc: 0.7441\n",
      "Epoch 37/50\n",
      "Epoch 00037: val_loss did not improve\n",
      " - 4s - loss: 3.8576 - acc: 0.7531 - val_loss: 3.9765 - val_acc: 0.7454\n",
      "Epoch 38/50\n",
      "Epoch 00038: val_loss did not improve\n",
      " - 4s - loss: 4.0048 - acc: 0.7444 - val_loss: 4.0715 - val_acc: 0.7410\n",
      "Epoch 39/50\n",
      "Epoch 00039: val_loss did not improve\n",
      " - 4s - loss: 3.8024 - acc: 0.7560 - val_loss: 3.9489 - val_acc: 0.7485\n",
      "Epoch 40/50\n",
      "Epoch 00040: val_loss did not improve\n",
      " - 4s - loss: 3.8437 - acc: 0.7550 - val_loss: 4.0014 - val_acc: 0.7449\n",
      "Epoch 41/50\n",
      "Epoch 00041: val_loss did not improve\n",
      " - 4s - loss: 3.8591 - acc: 0.7527 - val_loss: 4.0658 - val_acc: 0.7415\n",
      "Epoch 42/50\n",
      "Epoch 00042: val_loss did not improve\n",
      " - 4s - loss: 3.8115 - acc: 0.7555 - val_loss: 4.0453 - val_acc: 0.7441\n",
      "Epoch 43/50\n",
      "Epoch 00043: val_loss did not improve\n",
      " - 4s - loss: 3.8038 - acc: 0.7575 - val_loss: 3.9628 - val_acc: 0.7467\n",
      "Epoch 44/50\n",
      "Epoch 00044: val_loss did not improve\n",
      " - 4s - loss: 3.7963 - acc: 0.7582 - val_loss: 4.0618 - val_acc: 0.7433\n",
      "Epoch 45/50\n",
      "Epoch 00045: val_loss improved from 3.94295 to 3.89506, saving model to model.best.hdf5\n",
      " - 4s - loss: 3.7806 - acc: 0.7580 - val_loss: 3.8951 - val_acc: 0.7537\n",
      "Epoch 46/50\n",
      "Epoch 00046: val_loss did not improve\n",
      " - 4s - loss: 3.8012 - acc: 0.7567 - val_loss: 4.1822 - val_acc: 0.7309\n",
      "Epoch 47/50\n",
      "Epoch 00047: val_loss did not improve\n",
      " - 4s - loss: 3.7845 - acc: 0.7579 - val_loss: 4.4768 - val_acc: 0.7169\n",
      "Epoch 48/50\n",
      "Epoch 00048: val_loss did not improve\n",
      " - 4s - loss: 3.8140 - acc: 0.7573 - val_loss: 3.9625 - val_acc: 0.7485\n",
      "Epoch 49/50\n",
      "Epoch 00049: val_loss did not improve\n",
      " - 4s - loss: 3.8487 - acc: 0.7549 - val_loss: 4.2915 - val_acc: 0.7278\n",
      "Epoch 50/50\n",
      "Epoch 00050: val_loss did not improve\n",
      " - 4s - loss: 3.7571 - acc: 0.7593 - val_loss: 4.3009 - val_acc: 0.7270\n"
     ]
    },
    {
     "data": {
      "text/plain": [
       "<keras.callbacks.History at 0x12c12ee80>"
      ]
     },
     "execution_count": 41,
     "metadata": {},
     "output_type": "execute_result"
    }
   ],
   "source": [
    "from keras.callbacks import ModelCheckpoint   \n",
    "from keras.models import Sequential\n",
    "from keras.layers import Dense, Dropout, Conv2D, GlobalAveragePooling2D\n",
    "\n",
    "model = Sequential()\n",
    "model.add(Conv2D(filters=32, kernel_size=3, input_shape=features.shape[1:]))\n",
    "model.add(Dropout(0.4))\n",
    "model.add(GlobalAveragePooling2D())\n",
    "model.add(Dropout(0.3))\n",
    "model.add(Dense(3, activation='softmax'))\n",
    "model.summary()\n",
    "\n",
    "model.compile(loss='categorical_crossentropy', optimizer='rmsprop', metrics=['accuracy'])\n",
    "\n",
    "checkpointer = ModelCheckpoint(filepath='model.best.hdf5', \n",
    "                               verbose=1, save_best_only=True)\n",
    "model.fit(features, y_train, batch_size=50, epochs=50,\n",
    "          validation_split=0.2, callbacks=[checkpointer],\n",
    "          verbose=2, shuffle=True)"
   ]
  },
  {
   "cell_type": "code",
   "execution_count": 42,
   "metadata": {},
   "outputs": [
    {
     "name": "stdout",
     "output_type": "stream",
     "text": [
      "Test accuracy: 74.9430%\n"
     ]
    }
   ],
   "source": [
    "# load the weights that yielded the best validation accuracy\n",
    "model.load_weights('model.best.hdf5')\n",
    "\n",
    "# evaluate test accuracy\n",
    "score = model.evaluate(features_test, y_test, verbose=0)\n",
    "accuracy = 100*score[1]\n",
    "\n",
    "# print test accuracy\n",
    "print('Test accuracy: %.4f%%' % accuracy)"
   ]
  },
  {
   "cell_type": "code",
   "execution_count": 10,
   "metadata": {},
   "outputs": [
    {
     "data": {
      "image/png": "[encoded data removed]",
      "text/plain": [
       "<matplotlib.figure.Figure at 0x11d299b38>"
      ]
     },
     "metadata": {},
     "output_type": "display_data"
    }
   ],
   "source": [
    "img=plt.imread('img/Single-Button_Blazer/img_00000001.jpg')\n",
    "imgplot = plt.imshow(img)"
   ]
  },
  {
   "cell_type": "code",
   "execution_count": 17,
   "metadata": {},
   "outputs": [],
   "source": [
    "img2category = open('list_category_img.txt', 'r') \n",
    "category2type = open('list_category_cloth.txt', 'r')\n",
    "img2category_lines = img2category.readlines()\n",
    "category2type_lines = category2type.readlines()\n",
    "\n",
    "\n",
    "labels=[]\n",
    "imgs=[]\n",
    "step = 10 # we get 289000/step images\n",
    "category_count = {}\n",
    "\n",
    "for i, line in enumerate(img2category_lines[2:]):\n",
    "    if i % step == 0:\n",
    "        img_name = line.split()[0]\n",
    "        label = int(line.split()[1]) - 1 # let's make it 0-indexed\n",
    "        labels.append(label)\n",
    "        if label not in category_count:\n",
    "            category_count[label] = 0\n",
    "        category_count[label] += 1\n",
    "        \n",
    "        img = plt.imread(img_name)\n",
    "        imgs.append(scipy.misc.imresize(img, (32,32,3)))\n",
    "\n",
    "imgs_temp = np.asarray(imgs)\n",
    "labels_temp = np.asarray(labels)\n",
    "    \n",
    "categories = [] #category #49 and #50 are not found in the dataset. Doesn't matter\n",
    "category2type = {} \n",
    "    \n",
    "for i, line in enumerate(category2type_lines[2:]):\n",
    "    category = line.split()[0]\n",
    "    category_type = int(line.split()[1])\n",
    "    categories.append(category)\n",
    "    category2type[i] = category_type\n",
    "    "
   ]
  },
  {
   "cell_type": "code",
   "execution_count": 18,
   "metadata": {
    "collapsed": true
   },
   "outputs": [],
   "source": [
    "imgs = imgs_temp\n",
    "labels = np.array([category2type[label] for label in labels_temp])"
   ]
  },
  {
   "cell_type": "code",
   "execution_count": 19,
   "metadata": {},
   "outputs": [
    {
     "data": {
      "text/plain": [
       "array([1, 1, 1, ..., 3, 3, 3])"
      ]
     },
     "execution_count": 19,
     "metadata": {},
     "output_type": "execute_result"
    }
   ],
   "source": [
    "labels"
   ]
  },
  {
   "cell_type": "code",
   "execution_count": 20,
   "metadata": {},
   "outputs": [
    {
     "name": "stdout",
     "output_type": "stream",
     "text": [
      "50\n",
      "['Anorak', 'Blazer', 'Blouse', 'Bomber', 'Button-Down', 'Cardigan', 'Flannel', 'Halter', 'Henley', 'Hoodie', 'Jacket', 'Jersey', 'Parka', 'Peacoat', 'Poncho', 'Sweater', 'Tank', 'Tee', 'Top', 'Turtleneck', 'Capris', 'Chinos', 'Culottes', 'Cutoffs', 'Gauchos', 'Jeans', 'Jeggings', 'Jodhpurs', 'Joggers', 'Leggings', 'Sarong', 'Shorts', 'Skirt', 'Sweatpants', 'Sweatshorts', 'Trunks', 'Caftan', 'Cape', 'Coat', 'Coverup', 'Dress', 'Jumpsuit', 'Kaftan', 'Kimono', 'Nightdress', 'Onesie', 'Robe', 'Romper', 'Shirtdress', 'Sundress']\n",
      "28923\n",
      "{2: 2455, 1: 753, 4: 32, 3: 30, 0: 16, 17: 3682, 16: 1556, 18: 1003, 15: 1315, 6: 33, 9: 405, 5: 1325, 10: 1049, 8: 69, 14: 77, 11: 77, 19: 16, 12: 66, 13: 10, 7: 2, 32: 1469, 31: 1979, 25: 709, 28: 441, 33: 300, 26: 60, 23: 168, 34: 105, 29: 503, 22: 49, 21: 53, 35: 39, 30: 4, 24: 5, 27: 5, 20: 8, 40: 7232, 47: 729, 38: 213, 43: 227, 41: 614, 46: 14, 36: 5, 42: 12, 39: 2, 45: 7}\n",
      "{0: 1, 1: 1, 2: 1, 3: 1, 4: 1, 5: 1, 6: 1, 7: 1, 8: 1, 9: 1, 10: 1, 11: 1, 12: 1, 13: 1, 14: 1, 15: 1, 16: 1, 17: 1, 18: 1, 19: 1, 20: 2, 21: 2, 22: 2, 23: 2, 24: 2, 25: 2, 26: 2, 27: 2, 28: 2, 29: 2, 30: 2, 31: 2, 32: 2, 33: 2, 34: 2, 35: 2, 36: 3, 37: 3, 38: 3, 39: 3, 40: 3, 41: 3, 42: 3, 43: 3, 44: 3, 45: 3, 46: 3, 47: 3, 48: 3, 49: 3}\n"
     ]
    }
   ],
   "source": [
    "print(len(categories))\n",
    "print(categories)\n",
    "print(len(labels))\n",
    "print(category_count)\n",
    "print(category2type)"
   ]
  },
  {
   "cell_type": "code",
   "execution_count": 21,
   "metadata": {},
   "outputs": [
    {
     "name": "stdout",
     "output_type": "stream",
     "text": [
      "Train data shape:  (19282, 32, 32, 3)\n",
      "Train labels shape:  (19282,)\n",
      "Validation data shape:  (4820, 32, 32, 3)\n",
      "Validation labels shape:  (4820,)\n",
      "Test data shape:  (4821, 32, 32, 3)\n",
      "Test labels shape:  (4821,)\n"
     ]
    }
   ],
   "source": [
    "order = np.arange(len(labels))\n",
    "np.random.shuffle(order)\n",
    "\n",
    "shuffled_imgs = imgs[order]\n",
    "shuffled_labels = labels[order]\n",
    "\n",
    "length = shuffled_labels.shape[0]\n",
    "\n",
    "X_train = shuffled_imgs[:length*2//3]\n",
    "y_train = shuffled_labels[:length*2//3]\n",
    "\n",
    "X_val = shuffled_imgs[length*2//3:length*5//6]\n",
    "y_val = shuffled_labels[length*2//3:length*5//6]\n",
    "\n",
    "X_test = shuffled_imgs[length*5//6:]\n",
    "y_test = shuffled_labels[length*5//6:]\n",
    "\n",
    "print('Train data shape: ', X_train.shape)\n",
    "print('Train labels shape: ', y_train.shape)\n",
    "print('Validation data shape: ', X_val.shape)\n",
    "print('Validation labels shape: ', y_val.shape)\n",
    "print('Test data shape: ', X_test.shape)\n",
    "print('Test labels shape: ', y_test.shape)"
   ]
  },
  {
   "cell_type": "code",
   "execution_count": 24,
   "metadata": {
    "collapsed": true
   },
   "outputs": [],
   "source": [
    "np.save(\"X_train\", X_train)\n",
    "np.save(\"y_train\", y_train)\n",
    "np.save(\"X_val\", X_val)\n",
    "np.save(\"y_val\", y_val)\n",
    "np.save(\"X_test\", X_test)\n",
    "np.save(\"y_test\", y_test)"
   ]
  },
  {
   "cell_type": "code",
   "execution_count": 27,
   "metadata": {},
   "outputs": [
    {
     "name": "stdout",
     "output_type": "stream",
     "text": [
      "data loaded\n"
     ]
    }
   ],
   "source": [
    "# load the data\n",
    "(x_train_temp, y_train_temp), (x_test_temp, y_test_temp) = cifar10.load_data()\n",
    "y_train_temp = np.squeeze(y_train_temp)\n",
    "print('data loaded')"
   ]
  },
  {
   "cell_type": "code",
   "execution_count": 28,
   "metadata": {},
   "outputs": [
    {
     "data": {
      "text/plain": [
       "(50000,)"
      ]
     },
     "execution_count": 28,
     "metadata": {},
     "output_type": "execute_result"
    }
   ],
   "source": [
    "y_train_temp.shape"
   ]
  },
  {
   "cell_type": "code",
   "execution_count": 29,
   "metadata": {},
   "outputs": [
    {
     "data": {
      "text/plain": [
       "array([6, 9, 9, ..., 9, 1, 1], dtype=uint8)"
      ]
     },
     "execution_count": 29,
     "metadata": {},
     "output_type": "execute_result"
    }
   ],
   "source": [
    "y_train_temp"
   ]
  },
  {
   "cell_type": "code",
   "execution_count": 36,
   "metadata": {},
   "outputs": [
    {
     "data": {
      "text/plain": [
       "3"
      ]
     },
     "execution_count": 36,
     "metadata": {},
     "output_type": "execute_result"
    }
   ],
   "source": [
    "np.max(y_train)"
   ]
  },
  {
   "cell_type": "code",
   "execution_count": 30,
   "metadata": {},
   "outputs": [
    {
     "data": {
      "text/plain": [
       "(19282,)"
      ]
     },
     "execution_count": 30,
     "metadata": {},
     "output_type": "execute_result"
    }
   ],
   "source": [
    "y_train.shape"
   ]
  },
  {
   "cell_type": "code",
   "execution_count": 33,
   "metadata": {
    "collapsed": true
   },
   "outputs": [],
   "source": [
    "from keras.utils import np_utils\n",
    "\n",
    "# one-hot encode the labels\n",
    "y_train_temp = np_utils.to_categorical(y_train_temp, 10)\n",
    "y_test_temp = np_utils.to_categorical(y_test_temp, 10)"
   ]
  },
  {
   "cell_type": "code",
   "execution_count": 38,
   "metadata": {},
   "outputs": [],
   "source": [
    "y_train = np_utils.to_categorical(y_train-1, 3)\n",
    "y_test = np_utils.to_categorical(y_test-1, 3)"
   ]
  },
  {
   "cell_type": "code",
   "execution_count": null,
   "metadata": {
    "collapsed": true
   },
   "outputs": [],
   "source": []
  }
 ],
 "metadata": {
  "kernelspec": {
   "display_name": "Python 3",
   "language": "python",
   "name": "python3"
  },
  "language_info": {
   "codemirror_mode": {
    "name": "ipython",
    "version": 3
   },
   "file_extension": ".py",
   "mimetype": "text/x-python",
   "name": "python",
   "nbconvert_exporter": "python",
   "pygments_lexer": "ipython3",
   "version": "3.6.4"
  }
 },
 "nbformat": 4,
 "nbformat_minor": 2
}
